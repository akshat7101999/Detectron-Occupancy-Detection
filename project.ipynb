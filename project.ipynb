{
  "nbformat": 4,
  "nbformat_minor": 0,
  "metadata": {
    "colab": {
      "name": "project.ipynb",
      "provenance": [],
      "collapsed_sections": []
    },
    "kernelspec": {
      "name": "python3",
      "display_name": "Python 3"
    },
    "accelerator": "GPU"
  },
  "cells": [
    {
      "cell_type": "code",
      "metadata": {
        "id": "b-i4hmGYk1dL",
        "colab_type": "code",
        "colab": {}
      },
      "source": [
        "!pip install detectron2 -f https://dl.fbaipublicfiles.com/detectron2/wheels/cu100/index.html"
      ],
      "execution_count": 0,
      "outputs": []
    },
    {
      "cell_type": "code",
      "metadata": {
        "id": "RijEvs_MFEME",
        "colab_type": "code",
        "colab": {}
      },
      "source": [
        "from google.colab import drive\n",
        "drive.mount('/content/drive')"
      ],
      "execution_count": 0,
      "outputs": []
    },
    {
      "cell_type": "code",
      "metadata": {
        "id": "ZyAvNCJMmvFF",
        "colab_type": "code",
        "colab": {}
      },
      "source": [
        "\n",
        "import detectron2\n",
        "import math\n",
        "from detectron2.utils.logger import setup_logger\n",
        "setup_logger()\n",
        "\n",
        "\n",
        "import numpy as np\n",
        "import cv2\n",
        "import random\n",
        "from google.colab.patches import cv2_imshow\n",
        "\n",
        "\n",
        "from detectron2 import model_zoo\n",
        "from detectron2.engine import DefaultPredictor\n",
        "from detectron2.config import get_cfg\n",
        "from detectron2.utils.visualizer import Visualizer\n",
        "from detectron2.data import MetadataCatalog\n",
        "\n",
        "import numpy as np"
      ],
      "execution_count": 0,
      "outputs": []
    },
    {
      "cell_type": "code",
      "metadata": {
        "colab_type": "code",
        "id": "jZC-gpKGDNPp",
        "outputId": "ebe4a430-21bf-4f74-92ab-83015ac64d53",
        "colab": {
          "base_uri": "https://localhost:8080/",
          "height": 267
        }
      },
      "source": [
        "from google.colab import widgets\n",
        "\n",
        "\n",
        "# Now we can create a grid, optional header_row and header_column\n",
        "# control whether we want header elements in the grid\n",
        "\n",
        "cfg_tc = get_cfg()\n",
        "cfg_tc.merge_from_file(model_zoo.get_config_file(\"COCO-InstanceSegmentation/mask_rcnn_R_101_FPN_3x.yaml\"))\n",
        "cfg_tc.MODEL.ROI_HEADS.SCORE_THRESH_TEST = 0.5 \n",
        "cfg_tc.MODEL.WEIGHTS = model_zoo.get_checkpoint_url(\"COCO-InstanceSegmentation/mask_rcnn_R_101_FPN_3x.yaml\")\n",
        "\n",
        "\n",
        "!wget https://hosting1234567.000webhostapp.com/download.png -O input.png\n",
        "table = cv2.imread(\"./input.png\")\n",
        "img=table\n",
        "predictor = DefaultPredictor(cfg_tc)\n",
        "outputs = predictor(table)\n",
        "outputs[\"instances\"].pred_classes\n",
        "outputs[\"instances\"].pred_boxes\n",
        "classTensor = outputs[\"instances\"].pred_classes\n",
        "boxTensor = outputs[\"instances\"].pred_boxes\n",
        "\n",
        "grid = widgets.Grid(1, 3, header_row=True, header_column=True)\n",
        "with grid.output_to(0, 0):\n",
        "  print(\"1st table - EMPTY\")\n",
        "with grid.output_to(0, 1):\n",
        "  print(\"---------------\")\n",
        "\n",
        "with grid.output_to(0, 2):\n",
        "  print(\"2nd table - EMPTY\")\n",
        "\n",
        "table_arr = []\n",
        "table_center_arr = []\n",
        "\n",
        "#final array\n",
        "center_table_x_arr  = []\n",
        "center_table_y_arr = []\n",
        "\n",
        "for p in range(len(classTensor)):\n",
        "  if(int(classTensor[p]) == 60):\n",
        "    table_arr.append(p)\n",
        "\n",
        "for q in range(len(table_arr)):\n",
        "  table_center_arr.append(boxTensor.tensor[table_arr[q]])\n",
        "\n",
        "for r in range(0,len(table_center_arr)):\n",
        "  x_table = table_center_arr[r][0] + (table_center_arr[r][2]-table_center_arr[r][0])/2\n",
        "  y_table = table_center_arr[r][1] + (table_center_arr[r][3]-table_center_arr[r][1])/2\n",
        "  center_table_x_arr.append(x_table)\n",
        "  center_table_y_arr.append(y_table)\n",
        "\n",
        "      \n",
        "for s in range(0,len(center_table_x_arr)):\n",
        "  cv2.circle(img,(center_table_x_arr[s],center_table_y_arr[s]), 5, (0,255,0), -1)\n",
        "\n",
        "cap = cv2.VideoCapture('https://hosting1234567.000webhostapp.com/final_hackathon_video.mp4')\n",
        "i=0\n",
        "c=0\n",
        "\n",
        "while(i==0):\n",
        "  \n",
        "  try:\n",
        "\n",
        "    ret, frame = cap.read()\n",
        "    img=frame\n",
        "    img1=img\n",
        "    if(c>45):\n",
        "      \n",
        "      predictor1 = DefaultPredictor(cfg_tc)\n",
        "      outputs1 = predictor1(img)\n",
        "      classTensor1 = outputs1[\"instances\"].pred_classes\n",
        "      boxTensor1 = outputs1[\"instances\"].pred_boxes\n",
        "      \n",
        "      person_arr = []\n",
        "      person_center_arr = []\n",
        "\n",
        "      center_person_x_arr  = []\n",
        "      center_person_y_arr = []\n",
        "\n",
        "\n",
        "      for a in range(len(classTensor1)):\n",
        "        if(int(classTensor1[a]) == 0):\n",
        "          person_arr.append(a)\n",
        "      \n",
        "      for b in range(len(person_arr)):\n",
        "        person_center_arr.append(boxTensor1.tensor[person_arr[b]])\n",
        "\n",
        "      for c in range(0,len(person_center_arr)):\n",
        "        x_person = person_center_arr[c][0] + (person_center_arr[c][2]-person_center_arr[c][0])/2\n",
        "        y_person = person_center_arr[c][1] + (person_center_arr[c][3]-person_center_arr[c][1])/2\n",
        "        center_person_x_arr.append(x_person)\n",
        "        center_person_y_arr.append(y_person)\n",
        "\n",
        "      for d in range(0,len(center_person_x_arr)):\n",
        "        cv2.circle(img,(center_person_x_arr[d],center_person_y_arr[d]), 20, (255,255,255), -1)\n",
        "\n",
        "      #.........................................................................................................................................\n",
        "      with grid.output_to(0, 2):\n",
        "        grid.clear_cell()\n",
        "      with grid.output_to(0, 0):\n",
        "        grid.clear_cell()\n",
        "      distance_arr = []\n",
        "      for t in range(len(center_table_x_arr)):\n",
        "        for u in range(len(center_person_x_arr)):\n",
        "          dist = math.sqrt((center_table_x_arr[t]-center_person_x_arr[u])**2 + (center_table_y_arr[t]-center_person_y_arr[u])**2)\n",
        "          #print(dist)\n",
        "          if(dist<340):\n",
        "            #print(t, \" table is filled\")\n",
        "            if(t==0):\n",
        "              with grid.output_to(0,t):\n",
        "                print(\"1st table - OCCUPIED\")\n",
        "            elif(t==1):\n",
        "              with grid.output_to(0,t+1):\n",
        "                print(\"2nd table - OCCUPIED\")\n",
        "            \n",
        "            #cv2_imshow(img)\n",
        "          distance_arr.append(dist)\n",
        "      #print(distance_arr)\n",
        "      c=0\n",
        "    else:\n",
        "      c=c+1   \n",
        "    \n",
        "    if cv2.waitKey(1) & 0xFF == ord('q'):\n",
        "        break\n",
        "  except:\n",
        "    i=1\n",
        "    print(\"again\")        \n",
        "\n",
        "cap.release()\n",
        "cv2.destroyAllWindows()\n",
        "\n",
        "\n",
        "    "
      ],
      "execution_count": 0,
      "outputs": [
        {
          "output_type": "stream",
          "text": [
            "--2020-03-14 16:07:02--  https://hosting1234567.000webhostapp.com/download.png\n",
            "Resolving hosting1234567.000webhostapp.com (hosting1234567.000webhostapp.com)... 145.14.145.233, 2a02:4780:dead:be28::1\n",
            "Connecting to hosting1234567.000webhostapp.com (hosting1234567.000webhostapp.com)|145.14.145.233|:443... connected.\n",
            "HTTP request sent, awaiting response... 200 OK\n",
            "Length: 325058 (317K) [image/png]\n",
            "Saving to: ‘input.png’\n",
            "\n",
            "\rinput.png             0%[                    ]       0  --.-KB/s               \rinput.png            15%[==>                 ]  47.80K   230KB/s               \rinput.png            73%[=============>      ] 231.80K   557KB/s               \rinput.png           100%[===================>] 317.44K   762KB/s    in 0.4s    \n",
            "\n",
            "2020-03-14 16:07:03 (762 KB/s) - ‘input.png’ saved [325058/325058]\n",
            "\n"
          ],
          "name": "stdout"
        },
        {
          "output_type": "stream",
          "text": [
            "model_final_a3ec72.pkl: 254MB [00:22, 11.5MB/s]                           \n"
          ],
          "name": "stderr"
        },
        {
          "output_type": "display_data",
          "data": {
            "text/html": [
              "<style>\n",
              "       table#id2, #id2 > tbody > tr > th, #id2 > tbody > tr > td {\n",
              "         border: 1px solid lightgray;\n",
              "         border-collapse:collapse;\n",
              "         \n",
              "        }</style>"
            ],
            "text/plain": [
              "<IPython.core.display.HTML object>"
            ]
          },
          "metadata": {
            "tags": [
              "outputarea_id2"
            ]
          }
        },
        {
          "output_type": "display_data",
          "data": {
            "text/html": [
              "<table id=id2><tr><th id=id2-0-0></th><th id=id2-0-1></th><th id=id2-0-2></th></tr></table>"
            ],
            "text/plain": [
              "<IPython.core.display.HTML object>"
            ]
          },
          "metadata": {
            "tags": [
              "outputarea_id2"
            ]
          }
        },
        {
          "output_type": "display_data",
          "data": {
            "application/javascript": [
              "window[\"ecff2796-660d-11ea-bab5-0242ac1c0002\"] = google.colab.output.getActiveOutputArea();\n",
              "//# sourceURL=js_4ab6d78595"
            ],
            "text/plain": [
              "<IPython.core.display.Javascript object>"
            ]
          },
          "metadata": {
            "tags": [
              "id2-0-0",
              "outputarea_id2"
            ]
          }
        },
        {
          "output_type": "display_data",
          "data": {
            "application/javascript": [
              "window[\"ecff5ed2-660d-11ea-bab5-0242ac1c0002\"] = document.querySelector(\"#id2-0-0\");\n",
              "//# sourceURL=js_4d799655f0"
            ],
            "text/plain": [
              "<IPython.core.display.Javascript object>"
            ]
          },
          "metadata": {
            "tags": [
              "id2-0-0",
              "outputarea_id2"
            ]
          }
        },
        {
          "output_type": "display_data",
          "data": {
            "application/javascript": [
              "window[\"ecff964a-660d-11ea-bab5-0242ac1c0002\"] = google.colab.output.setActiveOutputArea(window[\"ecff5ed2-660d-11ea-bab5-0242ac1c0002\"]);\n",
              "//# sourceURL=js_f96fdb996c"
            ],
            "text/plain": [
              "<IPython.core.display.Javascript object>"
            ]
          },
          "metadata": {
            "tags": [
              "id2-0-0",
              "outputarea_id2"
            ]
          }
        },
        {
          "output_type": "display_data",
          "data": {
            "application/javascript": [
              "window[\"ed003dde-660d-11ea-bab5-0242ac1c0002\"] = google.colab.output.setActiveOutputArea(window[\"ecff2796-660d-11ea-bab5-0242ac1c0002\"]);\n",
              "//# sourceURL=js_a4684deb6d"
            ],
            "text/plain": [
              "<IPython.core.display.Javascript object>"
            ]
          },
          "metadata": {
            "tags": [
              "id2-0-0",
              "outputarea_id2"
            ]
          }
        },
        {
          "output_type": "display_data",
          "data": {
            "application/javascript": [
              "window[\"ed011614-660d-11ea-bab5-0242ac1c0002\"] = google.colab.output.getActiveOutputArea();\n",
              "//# sourceURL=js_d914eea9f7"
            ],
            "text/plain": [
              "<IPython.core.display.Javascript object>"
            ]
          },
          "metadata": {
            "tags": [
              "id2-0-1",
              "outputarea_id2"
            ]
          }
        },
        {
          "output_type": "display_data",
          "data": {
            "application/javascript": [
              "window[\"ed0143fa-660d-11ea-bab5-0242ac1c0002\"] = document.querySelector(\"#id2-0-1\");\n",
              "//# sourceURL=js_b6c1b1b9fc"
            ],
            "text/plain": [
              "<IPython.core.display.Javascript object>"
            ]
          },
          "metadata": {
            "tags": [
              "id2-0-1",
              "outputarea_id2"
            ]
          }
        },
        {
          "output_type": "display_data",
          "data": {
            "application/javascript": [
              "window[\"ed01765e-660d-11ea-bab5-0242ac1c0002\"] = google.colab.output.setActiveOutputArea(window[\"ed0143fa-660d-11ea-bab5-0242ac1c0002\"]);\n",
              "//# sourceURL=js_eb5f4718c8"
            ],
            "text/plain": [
              "<IPython.core.display.Javascript object>"
            ]
          },
          "metadata": {
            "tags": [
              "id2-0-1",
              "outputarea_id2"
            ]
          }
        },
        {
          "output_type": "stream",
          "text": [
            "---------------\n"
          ],
          "name": "stdout"
        },
        {
          "output_type": "display_data",
          "data": {
            "application/javascript": [
              "window[\"ed02115e-660d-11ea-bab5-0242ac1c0002\"] = google.colab.output.setActiveOutputArea(window[\"ed011614-660d-11ea-bab5-0242ac1c0002\"]);\n",
              "//# sourceURL=js_3c643e6f4d"
            ],
            "text/plain": [
              "<IPython.core.display.Javascript object>"
            ]
          },
          "metadata": {
            "tags": [
              "id2-0-1",
              "outputarea_id2"
            ]
          }
        },
        {
          "output_type": "display_data",
          "data": {
            "application/javascript": [
              "window[\"ed02f9de-660d-11ea-bab5-0242ac1c0002\"] = google.colab.output.getActiveOutputArea();\n",
              "//# sourceURL=js_5bae1aa338"
            ],
            "text/plain": [
              "<IPython.core.display.Javascript object>"
            ]
          },
          "metadata": {
            "tags": [
              "id2-0-2",
              "outputarea_id2"
            ]
          }
        },
        {
          "output_type": "display_data",
          "data": {
            "application/javascript": [
              "window[\"ed0329fe-660d-11ea-bab5-0242ac1c0002\"] = document.querySelector(\"#id2-0-2\");\n",
              "//# sourceURL=js_fd3dfeb95f"
            ],
            "text/plain": [
              "<IPython.core.display.Javascript object>"
            ]
          },
          "metadata": {
            "tags": [
              "id2-0-2",
              "outputarea_id2"
            ]
          }
        },
        {
          "output_type": "display_data",
          "data": {
            "application/javascript": [
              "window[\"ed035762-660d-11ea-bab5-0242ac1c0002\"] = google.colab.output.setActiveOutputArea(window[\"ed0329fe-660d-11ea-bab5-0242ac1c0002\"]);\n",
              "//# sourceURL=js_b908d5701b"
            ],
            "text/plain": [
              "<IPython.core.display.Javascript object>"
            ]
          },
          "metadata": {
            "tags": [
              "id2-0-2",
              "outputarea_id2"
            ]
          }
        },
        {
          "output_type": "display_data",
          "data": {
            "application/javascript": [
              "window[\"ed03ef42-660d-11ea-bab5-0242ac1c0002\"] = google.colab.output.setActiveOutputArea(window[\"ed02f9de-660d-11ea-bab5-0242ac1c0002\"]);\n",
              "//# sourceURL=js_384f3408b6"
            ],
            "text/plain": [
              "<IPython.core.display.Javascript object>"
            ]
          },
          "metadata": {
            "tags": [
              "id2-0-2",
              "outputarea_id2"
            ]
          }
        },
        {
          "output_type": "display_data",
          "data": {
            "application/javascript": [
              "window[\"ef046a6a-660d-11ea-bab5-0242ac1c0002\"] = google.colab.output.getActiveOutputArea();\n",
              "//# sourceURL=js_c8b70eb4bc"
            ],
            "text/plain": [
              "<IPython.core.display.Javascript object>"
            ]
          },
          "metadata": {
            "tags": [
              "id2-0-2",
              "outputarea_id2"
            ]
          }
        },
        {
          "output_type": "display_data",
          "data": {
            "application/javascript": [
              "window[\"ef049eea-660d-11ea-bab5-0242ac1c0002\"] = document.querySelector(\"#id2-0-2\");\n",
              "//# sourceURL=js_17e3f1c3d2"
            ],
            "text/plain": [
              "<IPython.core.display.Javascript object>"
            ]
          },
          "metadata": {
            "tags": [
              "id2-0-2",
              "outputarea_id2"
            ]
          }
        },
        {
          "output_type": "display_data",
          "data": {
            "application/javascript": [
              "window[\"ef04eeae-660d-11ea-bab5-0242ac1c0002\"] = google.colab.output.setActiveOutputArea(window[\"ef049eea-660d-11ea-bab5-0242ac1c0002\"]);\n",
              "//# sourceURL=js_cdff975fec"
            ],
            "text/plain": [
              "<IPython.core.display.Javascript object>"
            ]
          },
          "metadata": {
            "tags": [
              "id2-0-2",
              "outputarea_id2"
            ]
          }
        },
        {
          "output_type": "display_data",
          "data": {
            "application/javascript": [
              "window[\"ef05928c-660d-11ea-bab5-0242ac1c0002\"] = google.colab.output.setActiveOutputArea(window[\"ef046a6a-660d-11ea-bab5-0242ac1c0002\"]);\n",
              "//# sourceURL=js_d3dffbbb61"
            ],
            "text/plain": [
              "<IPython.core.display.Javascript object>"
            ]
          },
          "metadata": {
            "tags": [
              "id2-0-2",
              "outputarea_id2"
            ]
          }
        },
        {
          "output_type": "display_data",
          "data": {
            "application/javascript": [
              "window[\"ef067a9e-660d-11ea-bab5-0242ac1c0002\"] = google.colab.output.getActiveOutputArea();\n",
              "//# sourceURL=js_51579eb7a4"
            ],
            "text/plain": [
              "<IPython.core.display.Javascript object>"
            ]
          },
          "metadata": {
            "tags": [
              "id2-0-0",
              "outputarea_id2"
            ]
          }
        },
        {
          "output_type": "display_data",
          "data": {
            "application/javascript": [
              "window[\"ef06a992-660d-11ea-bab5-0242ac1c0002\"] = document.querySelector(\"#id2-0-0\");\n",
              "//# sourceURL=js_dbb7b7067d"
            ],
            "text/plain": [
              "<IPython.core.display.Javascript object>"
            ]
          },
          "metadata": {
            "tags": [
              "id2-0-0",
              "outputarea_id2"
            ]
          }
        },
        {
          "output_type": "display_data",
          "data": {
            "application/javascript": [
              "window[\"ef06e704-660d-11ea-bab5-0242ac1c0002\"] = google.colab.output.setActiveOutputArea(window[\"ef06a992-660d-11ea-bab5-0242ac1c0002\"]);\n",
              "//# sourceURL=js_395583a432"
            ],
            "text/plain": [
              "<IPython.core.display.Javascript object>"
            ]
          },
          "metadata": {
            "tags": [
              "id2-0-0",
              "outputarea_id2"
            ]
          }
        },
        {
          "output_type": "display_data",
          "data": {
            "application/javascript": [
              "window[\"ef07be7c-660d-11ea-bab5-0242ac1c0002\"] = google.colab.output.setActiveOutputArea(window[\"ef067a9e-660d-11ea-bab5-0242ac1c0002\"]);\n",
              "//# sourceURL=js_b2effa5806"
            ],
            "text/plain": [
              "<IPython.core.display.Javascript object>"
            ]
          },
          "metadata": {
            "tags": [
              "id2-0-0",
              "outputarea_id2"
            ]
          }
        },
        {
          "output_type": "display_data",
          "data": {
            "application/javascript": [
              "window[\"efec7f3a-660d-11ea-bab5-0242ac1c0002\"] = google.colab.output.getActiveOutputArea();\n",
              "//# sourceURL=js_20ddb62786"
            ],
            "text/plain": [
              "<IPython.core.display.Javascript object>"
            ]
          },
          "metadata": {
            "tags": [
              "id2-0-2",
              "outputarea_id2"
            ]
          }
        },
        {
          "output_type": "display_data",
          "data": {
            "application/javascript": [
              "window[\"efecb450-660d-11ea-bab5-0242ac1c0002\"] = document.querySelector(\"#id2-0-2\");\n",
              "//# sourceURL=js_97ed866203"
            ],
            "text/plain": [
              "<IPython.core.display.Javascript object>"
            ]
          },
          "metadata": {
            "tags": [
              "id2-0-2",
              "outputarea_id2"
            ]
          }
        },
        {
          "output_type": "display_data",
          "data": {
            "application/javascript": [
              "window[\"efed0784-660d-11ea-bab5-0242ac1c0002\"] = google.colab.output.setActiveOutputArea(window[\"efecb450-660d-11ea-bab5-0242ac1c0002\"]);\n",
              "//# sourceURL=js_57d56ec5b9"
            ],
            "text/plain": [
              "<IPython.core.display.Javascript object>"
            ]
          },
          "metadata": {
            "tags": [
              "id2-0-2",
              "outputarea_id2"
            ]
          }
        },
        {
          "output_type": "display_data",
          "data": {
            "application/javascript": [
              "window[\"efedb36e-660d-11ea-bab5-0242ac1c0002\"] = google.colab.output.setActiveOutputArea(window[\"efec7f3a-660d-11ea-bab5-0242ac1c0002\"]);\n",
              "//# sourceURL=js_511dba969d"
            ],
            "text/plain": [
              "<IPython.core.display.Javascript object>"
            ]
          },
          "metadata": {
            "tags": [
              "id2-0-2",
              "outputarea_id2"
            ]
          }
        },
        {
          "output_type": "display_data",
          "data": {
            "application/javascript": [
              "window[\"efeeadd2-660d-11ea-bab5-0242ac1c0002\"] = google.colab.output.getActiveOutputArea();\n",
              "//# sourceURL=js_85d831a7c6"
            ],
            "text/plain": [
              "<IPython.core.display.Javascript object>"
            ]
          },
          "metadata": {
            "tags": [
              "id2-0-0",
              "outputarea_id2"
            ]
          }
        },
        {
          "output_type": "display_data",
          "data": {
            "application/javascript": [
              "window[\"efeed852-660d-11ea-bab5-0242ac1c0002\"] = document.querySelector(\"#id2-0-0\");\n",
              "//# sourceURL=js_5dc7b19de1"
            ],
            "text/plain": [
              "<IPython.core.display.Javascript object>"
            ]
          },
          "metadata": {
            "tags": [
              "id2-0-0",
              "outputarea_id2"
            ]
          }
        },
        {
          "output_type": "display_data",
          "data": {
            "application/javascript": [
              "window[\"efef064c-660d-11ea-bab5-0242ac1c0002\"] = google.colab.output.setActiveOutputArea(window[\"efeed852-660d-11ea-bab5-0242ac1c0002\"]);\n",
              "//# sourceURL=js_7ac8a44aaa"
            ],
            "text/plain": [
              "<IPython.core.display.Javascript object>"
            ]
          },
          "metadata": {
            "tags": [
              "id2-0-0",
              "outputarea_id2"
            ]
          }
        },
        {
          "output_type": "display_data",
          "data": {
            "application/javascript": [
              "window[\"efefd4fa-660d-11ea-bab5-0242ac1c0002\"] = google.colab.output.setActiveOutputArea(window[\"efeeadd2-660d-11ea-bab5-0242ac1c0002\"]);\n",
              "//# sourceURL=js_f4ce8efaf0"
            ],
            "text/plain": [
              "<IPython.core.display.Javascript object>"
            ]
          },
          "metadata": {
            "tags": [
              "id2-0-0",
              "outputarea_id2"
            ]
          }
        },
        {
          "output_type": "display_data",
          "data": {
            "application/javascript": [
              "window[\"f0d123a6-660d-11ea-bab5-0242ac1c0002\"] = google.colab.output.getActiveOutputArea();\n",
              "//# sourceURL=js_a4d2647853"
            ],
            "text/plain": [
              "<IPython.core.display.Javascript object>"
            ]
          },
          "metadata": {
            "tags": [
              "id2-0-2",
              "outputarea_id2"
            ]
          }
        },
        {
          "output_type": "display_data",
          "data": {
            "application/javascript": [
              "window[\"f0d1b7bc-660d-11ea-bab5-0242ac1c0002\"] = document.querySelector(\"#id2-0-2\");\n",
              "//# sourceURL=js_48b60392aa"
            ],
            "text/plain": [
              "<IPython.core.display.Javascript object>"
            ]
          },
          "metadata": {
            "tags": [
              "id2-0-2",
              "outputarea_id2"
            ]
          }
        },
        {
          "output_type": "display_data",
          "data": {
            "application/javascript": [
              "window[\"f0d27e18-660d-11ea-bab5-0242ac1c0002\"] = google.colab.output.setActiveOutputArea(window[\"f0d1b7bc-660d-11ea-bab5-0242ac1c0002\"]);\n",
              "//# sourceURL=js_5f3ec39df8"
            ],
            "text/plain": [
              "<IPython.core.display.Javascript object>"
            ]
          },
          "metadata": {
            "tags": [
              "id2-0-2",
              "outputarea_id2"
            ]
          }
        },
        {
          "output_type": "display_data",
          "data": {
            "application/javascript": [
              "window[\"f0d38452-660d-11ea-bab5-0242ac1c0002\"] = google.colab.output.setActiveOutputArea(window[\"f0d123a6-660d-11ea-bab5-0242ac1c0002\"]);\n",
              "//# sourceURL=js_d4000447f0"
            ],
            "text/plain": [
              "<IPython.core.display.Javascript object>"
            ]
          },
          "metadata": {
            "tags": [
              "id2-0-2",
              "outputarea_id2"
            ]
          }
        },
        {
          "output_type": "display_data",
          "data": {
            "application/javascript": [
              "window[\"f0d4e23e-660d-11ea-bab5-0242ac1c0002\"] = google.colab.output.getActiveOutputArea();\n",
              "//# sourceURL=js_93b7a32281"
            ],
            "text/plain": [
              "<IPython.core.display.Javascript object>"
            ]
          },
          "metadata": {
            "tags": [
              "id2-0-0",
              "outputarea_id2"
            ]
          }
        },
        {
          "output_type": "display_data",
          "data": {
            "application/javascript": [
              "window[\"f0d52df2-660d-11ea-bab5-0242ac1c0002\"] = document.querySelector(\"#id2-0-0\");\n",
              "//# sourceURL=js_a47ad187ad"
            ],
            "text/plain": [
              "<IPython.core.display.Javascript object>"
            ]
          },
          "metadata": {
            "tags": [
              "id2-0-0",
              "outputarea_id2"
            ]
          }
        },
        {
          "output_type": "display_data",
          "data": {
            "application/javascript": [
              "window[\"f0d57a1e-660d-11ea-bab5-0242ac1c0002\"] = google.colab.output.setActiveOutputArea(window[\"f0d52df2-660d-11ea-bab5-0242ac1c0002\"]);\n",
              "//# sourceURL=js_c459dc0cea"
            ],
            "text/plain": [
              "<IPython.core.display.Javascript object>"
            ]
          },
          "metadata": {
            "tags": [
              "id2-0-0",
              "outputarea_id2"
            ]
          }
        },
        {
          "output_type": "display_data",
          "data": {
            "application/javascript": [
              "window[\"f0d6754a-660d-11ea-bab5-0242ac1c0002\"] = google.colab.output.setActiveOutputArea(window[\"f0d4e23e-660d-11ea-bab5-0242ac1c0002\"]);\n",
              "//# sourceURL=js_97a2ed1dea"
            ],
            "text/plain": [
              "<IPython.core.display.Javascript object>"
            ]
          },
          "metadata": {
            "tags": [
              "id2-0-0",
              "outputarea_id2"
            ]
          }
        },
        {
          "output_type": "display_data",
          "data": {
            "application/javascript": [
              "window[\"f0d7cd5a-660d-11ea-bab5-0242ac1c0002\"] = google.colab.output.getActiveOutputArea();\n",
              "//# sourceURL=js_01ad383b12"
            ],
            "text/plain": [
              "<IPython.core.display.Javascript object>"
            ]
          },
          "metadata": {
            "tags": [
              "id2-0-0",
              "outputarea_id2"
            ]
          }
        },
        {
          "output_type": "display_data",
          "data": {
            "application/javascript": [
              "window[\"f0d81666-660d-11ea-bab5-0242ac1c0002\"] = document.querySelector(\"#id2-0-0\");\n",
              "//# sourceURL=js_26b34aa911"
            ],
            "text/plain": [
              "<IPython.core.display.Javascript object>"
            ]
          },
          "metadata": {
            "tags": [
              "id2-0-0",
              "outputarea_id2"
            ]
          }
        },
        {
          "output_type": "display_data",
          "data": {
            "application/javascript": [
              "window[\"f0d862ba-660d-11ea-bab5-0242ac1c0002\"] = google.colab.output.setActiveOutputArea(window[\"f0d81666-660d-11ea-bab5-0242ac1c0002\"]);\n",
              "//# sourceURL=js_b5ff95fb22"
            ],
            "text/plain": [
              "<IPython.core.display.Javascript object>"
            ]
          },
          "metadata": {
            "tags": [
              "id2-0-0",
              "outputarea_id2"
            ]
          }
        },
        {
          "output_type": "stream",
          "text": [
            "1st table - OCCUPIED\n"
          ],
          "name": "stdout"
        },
        {
          "output_type": "display_data",
          "data": {
            "application/javascript": [
              "window[\"f0d92506-660d-11ea-bab5-0242ac1c0002\"] = google.colab.output.setActiveOutputArea(window[\"f0d7cd5a-660d-11ea-bab5-0242ac1c0002\"]);\n",
              "//# sourceURL=js_aa13ad6dbe"
            ],
            "text/plain": [
              "<IPython.core.display.Javascript object>"
            ]
          },
          "metadata": {
            "tags": [
              "id2-0-0",
              "outputarea_id2"
            ]
          }
        }
      ]
    }
  ]
}